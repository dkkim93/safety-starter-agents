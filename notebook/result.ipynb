{
 "cells": [
  {
   "cell_type": "markdown",
   "metadata": {},
   "source": [
    "## Setup\n",
    "Please download result data from this [link](https://www.dropbox.com/s/39gvm9lnn180nap/meta_marl_result.zip?dl=0). Then, unzip and put the data in `meta_marl/notebook/data`. "
   ]
  },
  {
   "cell_type": "code",
   "execution_count": 1,
   "metadata": {},
   "outputs": [],
   "source": [
    "import seaborn as sns\n",
    "import pylab as plot\n",
    "import matplotlib.pyplot as plt\n",
    "import numpy as np\n",
    "\n",
    "# Set plotting\n",
    "sns.set_style(\"ticks\")\n",
    "sns.set_palette(sns.color_palette(\"hls\", 8))\n",
    "plt.rc('text', usetex=True)\n",
    "plt.rc('font', family='serif')\n",
    "params = {'legend.fontsize': 14}\n",
    "plot.rcParams.update(params)\n",
    "\n",
    "plt.rc('xtick',labelsize=15)\n",
    "plt.rc('ytick',labelsize=15)\n",
    "\n",
    "MAX_ITERATION = 20\n",
    "N_SEED = 20"
   ]
  },
  {
   "cell_type": "code",
   "execution_count": 2,
   "metadata": {},
   "outputs": [],
   "source": [
    "def read_key_from_log(path, key, index, i_agent=None):\n",
    "    with open(path) as f:\n",
    "        content = f.read().splitlines()\n",
    "\n",
    "    data = []\n",
    "    for line in content:\n",
    "        target_data = None\n",
    "        if key in line:\n",
    "            if i_agent is not None:\n",
    "                words = line.split()\n",
    "                if int(words[-6][0]) == i_agent:\n",
    "                    target_data = line.split()[index]\n",
    "            else:\n",
    "                target_data = line.split()[index]\n",
    "                \n",
    "        if target_data is not None:\n",
    "            if target_data[0] == \"[\":\n",
    "                target_data = target_data[1:-1]\n",
    "            if target_data[0] == \",\":\n",
    "                target_data = target_data[1:-1]\n",
    "            if target_data[-1] == \",\":\n",
    "                target_data = target_data[0:-1]\n",
    "            data.append(float(target_data))\n",
    "\n",
    "    assert len(data) > 0\n",
    "\n",
    "    return data"
   ]
  },
  {
   "cell_type": "code",
   "execution_count": 3,
   "metadata": {
    "scrolled": false
   },
   "outputs": [
    {
     "name": "stdout",
     "output_type": "stream",
     "text": [
      "(2, 3600) (2, 3600)\n"
     ]
    }
   ],
   "source": [
    "ours_cost, ours_obj = [], []\n",
    "for seed in range(1, 10):\n",
    "    path = \"./data/pointmass/ours/example-\" + str(seed)\n",
    "    try:\n",
    "        cost = read_key_from_log(path, key=\"constraint is\", index=-1)\n",
    "    except:\n",
    "        continue\n",
    "    \n",
    "    if len(cost) >= 200:\n",
    "        ours_cost.append(np.array(cost))\n",
    "    else:\n",
    "        continue\n",
    "\n",
    "    obj = read_key_from_log(path, key=\"return is\", index=-1)\n",
    "    if len(obj) >= 200:    \n",
    "        ours_obj.append(np.array(obj))\n",
    "    else:\n",
    "        continue\n",
    "ours_cost = np.stack(ours_cost, axis=0)\n",
    "ours_obj = np.stack(ours_obj, axis=0)\n",
    "print(ours_cost.shape, ours_obj.shape)"
   ]
  },
  {
   "cell_type": "code",
   "execution_count": 4,
   "metadata": {
    "scrolled": false
   },
   "outputs": [],
   "source": [
    "# ppo_task5_cost, ppo_task5_obj = [], []\n",
    "# for seed in range(1, 10):\n",
    "#     path = \"./data/pointmass/task5/ppo_seed::\" + str(seed) + \"_log\"\n",
    "#     try:\n",
    "#         cost = read_key_from_log(path, key=\"cost\", index=-1)\n",
    "#     except:\n",
    "#         continue\n",
    "#     if len(cost) >= 200000:\n",
    "#         ppo_task5_cost.append(np.array(cost))\n",
    "#     else:\n",
    "#         continue\n",
    "\n",
    "#     obj = read_key_from_log(path, key=\"return\", index=-1)\n",
    "#     if len(obj) >= 200000:    \n",
    "#         ppo_task5_obj.append(np.array(obj))\n",
    "#     else:\n",
    "#         continue\n",
    "# ppo_task5_cost = np.stack(ppo_task5_cost, axis=0) - 5\n",
    "# ppo_task5_obj = np.stack(ppo_task5_obj, axis=0)\n",
    "# print(ppo_task5_cost.shape, ppo_task5_obj.shape)"
   ]
  },
  {
   "cell_type": "code",
   "execution_count": 5,
   "metadata": {
    "scrolled": false
   },
   "outputs": [
    {
     "name": "stdout",
     "output_type": "stream",
     "text": [
      "(4, 200000) (4, 200000)\n"
     ]
    }
   ],
   "source": [
    "ppo_task6_cost, ppo_task6_obj = [], []\n",
    "for seed in range(1, 10):\n",
    "    path = \"./data/pointmass/task6/ppo_seed::\" + str(seed) + \"_log\"\n",
    "    try:\n",
    "        cost = read_key_from_log(path, key=\"cost\", index=-1)\n",
    "    except:\n",
    "        continue\n",
    "    if len(cost) >= 200000:\n",
    "        ppo_task6_cost.append(np.array(cost))\n",
    "    else:\n",
    "        continue\n",
    "\n",
    "    obj = read_key_from_log(path, key=\"return\", index=-1)\n",
    "    if len(obj) >= 200000:    \n",
    "        ppo_task6_obj.append(np.array(obj))\n",
    "    else:\n",
    "        continue\n",
    "ppo_task6_cost = np.stack(ppo_task6_cost, axis=0) - 5\n",
    "ppo_task6_obj = np.stack(ppo_task6_obj, axis=0)\n",
    "print(ppo_task6_cost.shape, ppo_task6_obj.shape)"
   ]
  },
  {
   "cell_type": "code",
   "execution_count": 6,
   "metadata": {
    "scrolled": false
   },
   "outputs": [],
   "source": [
    "# cpo_task5_cost, cpo_task5_obj = [], []\n",
    "# for seed in range(1, 10):\n",
    "#     path = \"./data/pointmass/seed::\" + str(seed) + \"_algo::cpo_task::5_cost_lim::5.0\"\n",
    "#     try:\n",
    "#         cost = read_key_from_log(path, key=\"cost:\", index=-1)\n",
    "#     except:\n",
    "#         continue\n",
    "#     if len(cost) > 200000:\n",
    "#         cpo_task5_cost.append(np.array(cost))\n",
    "#     else:\n",
    "#         continue\n",
    "\n",
    "#     obj = read_key_from_log(path, key=\"return:\", index=-1)\n",
    "#     if len(obj) > 200000:    \n",
    "#         cpo_task5_obj.append(np.array(obj))\n",
    "#     else:\n",
    "#         continue\n",
    "\n",
    "# cpo_task5_cost = np.stack(cpo_task5_cost, axis=0)\n",
    "# cpo_task5_obj = np.stack(cpo_task5_obj, axis=0)\n",
    "# print(cpo_task5_cost.shape, cpo_task5_obj.shape)"
   ]
  },
  {
   "cell_type": "code",
   "execution_count": 7,
   "metadata": {
    "scrolled": false
   },
   "outputs": [
    {
     "name": "stdout",
     "output_type": "stream",
     "text": [
      "(5, 200001) (5, 200001)\n"
     ]
    }
   ],
   "source": [
    "cpo_task6_cost, cpo_task6_obj = [], []\n",
    "for seed in range(1, 10):\n",
    "    path = \"./data/pointmass/seed::\" + str(seed) + \"_algo::cpo_task::6_cost_lim::5.0\"\n",
    "    try:\n",
    "        cost = read_key_from_log(path, key=\"cost:\", index=-1)\n",
    "    except:\n",
    "        continue\n",
    "    if len(cost) > 200000:\n",
    "        cpo_task6_cost.append(np.array(cost))\n",
    "    else:\n",
    "        continue\n",
    "\n",
    "    obj = read_key_from_log(path, key=\"return:\", index=-1)\n",
    "    if len(obj) > 200000:    \n",
    "        cpo_task6_obj.append(np.array(obj))\n",
    "    else:\n",
    "        continue\n",
    "\n",
    "cpo_task6_cost = np.stack(cpo_task6_cost, axis=0)\n",
    "cpo_task6_obj = np.stack(cpo_task6_obj, axis=0)\n",
    "print(cpo_task6_cost.shape, cpo_task6_obj.shape)"
   ]
  },
  {
   "cell_type": "code",
   "execution_count": 8,
   "metadata": {
    "scrolled": false
   },
   "outputs": [],
   "source": [
    "# ppo_lag_task5_cost, ppo_lag_task5_obj = [], []\n",
    "# for seed in range(1, 10):\n",
    "#     path = \"./data/pointmass/seed::\" + str(seed) + \"_algo::ppo_lagrangian_task::5_cost_lim::5.0\"\n",
    "#     try:\n",
    "#         cost = read_key_from_log(path, key=\"cost:\", index=-1)\n",
    "#     except:\n",
    "#         continue\n",
    "#     if len(cost) > 200000:\n",
    "#         ppo_lag_task5_cost.append(np.array(cost))\n",
    "#     else:\n",
    "#         continue\n",
    "\n",
    "#     obj = read_key_from_log(path, key=\"return:\", index=-1)\n",
    "#     if len(obj) > 200000:    \n",
    "#         ppo_lag_task5_obj.append(np.array(obj))\n",
    "#     else:\n",
    "#         continue\n",
    "\n",
    "# ppo_lag_task5_cost = np.stack(ppo_lag_task5_cost, axis=0)\n",
    "# ppo_lag_task5_obj = np.stack(ppo_lag_task5_obj, axis=0)\n",
    "# print(ppo_lag_task5_cost.shape, ppo_lag_task5_obj.shape)"
   ]
  },
  {
   "cell_type": "code",
   "execution_count": 9,
   "metadata": {
    "scrolled": false
   },
   "outputs": [
    {
     "name": "stdout",
     "output_type": "stream",
     "text": [
      "(5, 200001) (5, 200001)\n"
     ]
    }
   ],
   "source": [
    "ppo_lag_task6_cost, ppo_lag_task6_obj = [], []\n",
    "for seed in range(1, 10):\n",
    "    path = \"./data/pointmass/seed::\" + str(seed) + \"_algo::ppo_lagrangian_task::6_cost_lim::5.0\"\n",
    "    try:\n",
    "        cost = read_key_from_log(path, key=\"cost:\", index=-1)\n",
    "    except:\n",
    "        continue\n",
    "    if len(cost) > 200000:\n",
    "        ppo_lag_task6_cost.append(np.array(cost))\n",
    "    else:\n",
    "        continue\n",
    "\n",
    "    obj = read_key_from_log(path, key=\"return:\", index=-1)\n",
    "    if len(obj) > 200000:    \n",
    "        ppo_lag_task6_obj.append(np.array(obj))\n",
    "    else:\n",
    "        continue\n",
    "\n",
    "ppo_lag_task6_cost = np.stack(ppo_lag_task6_cost, axis=0)\n",
    "ppo_lag_task6_obj = np.stack(ppo_lag_task6_obj, axis=0)\n",
    "print(ppo_lag_task6_cost.shape, ppo_lag_task6_obj.shape)"
   ]
  },
  {
   "cell_type": "code",
   "execution_count": 10,
   "metadata": {
    "scrolled": false
   },
   "outputs": [],
   "source": [
    "# fig, ax = plt.subplots()\n",
    "# sns.set_style(\"ticks\")        \n",
    "# datas = [ppo_task5_cost, ppo_lag_task5_cost, cpo_task5_cost]\n",
    "# legends = [\"PPO\", \"PPO Lag\", \"CPO\"]\n",
    "# colors = [\n",
    "#     sns.color_palette(\"hls\", 8)[0], \n",
    "#     sns.color_palette(\"hls\", 8)[3], \n",
    "#     sns.color_palette(\"hls\", 8)[5],\n",
    "#     sns.color_palette(\"hls\", 8)[6]]\n",
    "\n",
    "# for data, legend, color in zip(datas, legends, colors):\n",
    "#     mean = np.mean(data, axis=0)\n",
    "#     std = np.std(data, axis=0)\n",
    "#     confidence = 1.96 * std / float(np.sqrt(10))  # 95% interval\n",
    "#     error = (mean - confidence, mean + confidence)\n",
    "\n",
    "#     ax.fill_between(np.arange(mean.shape[0]), error[0], error[1], alpha=0.2, color=color)\n",
    "#     ax.plot(np.arange(mean.shape[0]), mean, label=legend, color=color)      \n",
    "\n",
    "# plt.xlabel(r'\\textbf{Train Iteration}', size=18)\n",
    "# plt.ylabel(r'\\textbf{Average Cost', size=18)\n",
    "# plt.title(r'\\textbf{Pointmass: Task5}', size=18)\n",
    "# plt.legend()        "
   ]
  },
  {
   "cell_type": "code",
   "execution_count": 11,
   "metadata": {
    "scrolled": false
   },
   "outputs": [],
   "source": [
    "# fig, ax = plt.subplots()\n",
    "# sns.set_style(\"ticks\")        \n",
    "# datas = [ppo_task5_obj, ppo_lag_task5_obj, cpo_task5_obj]\n",
    "# colors = [\n",
    "#     sns.color_palette(\"hls\", 8)[0], \n",
    "#     sns.color_palette(\"hls\", 8)[3], \n",
    "#     sns.color_palette(\"hls\", 8)[5],\n",
    "#     sns.color_palette(\"hls\", 8)[6]]\n",
    "\n",
    "# for data, legend, color in zip(datas, legends, colors):\n",
    "#     mean = np.mean(data, axis=0)\n",
    "#     std = np.std(data, axis=0)\n",
    "#     confidence = 1.96 * std / float(np.sqrt(5))  # 95% interval\n",
    "#     error = (mean - confidence, mean + confidence)\n",
    "\n",
    "#     ax.fill_between(np.arange(mean.shape[0]), error[0], error[1], alpha=0.2, color=color)\n",
    "#     ax.plot(np.arange(mean.shape[0]), mean, label=legend, color=color)      \n",
    "\n",
    "# plt.xlabel(r'\\textbf{Train Iteration}', size=18)\n",
    "# plt.ylabel(r'\\textbf{Average Return', size=18)\n",
    "# plt.title(r'\\textbf{Pointmass: Task5}', size=18)\n",
    "# plt.legend()     "
   ]
  },
  {
   "cell_type": "code",
   "execution_count": 14,
   "metadata": {
    "scrolled": false
   },
   "outputs": [
    {
     "data": {
      "text/plain": [
       "<matplotlib.legend.Legend at 0x7fca0a4f0f28>"
      ]
     },
     "execution_count": 14,
     "metadata": {},
     "output_type": "execute_result"
    },
    {
     "data": {
      "image/png": "[encoded data removed]",
      "text/plain": [
       "<Figure size 432x288 with 1 Axes>"
      ]
     },
     "metadata": {},
     "output_type": "display_data"
    }
   ],
   "source": [
    "fig, ax = plt.subplots()\n",
    "sns.set_style(\"ticks\")        \n",
    "datas = [ppo_task6_cost, ppo_lag_task6_cost, cpo_task6_cost, ours_cost]\n",
    "legends = [\"PPO\", \"PPO Lag\", \"CPO\", \"Ours\"]\n",
    "colors = [\n",
    "    sns.color_palette(\"hls\", 8)[0], \n",
    "    sns.color_palette(\"hls\", 8)[3], \n",
    "    sns.color_palette(\"hls\", 8)[5],\n",
    "    sns.color_palette(\"hls\", 8)[6]]\n",
    "\n",
    "for data, legend, color in zip(datas, legends, colors):\n",
    "    mean = np.mean(data, axis=0)\n",
    "    std = np.std(data, axis=0)\n",
    "    confidence = 1.96 * std / float(np.sqrt(10))  # 95% interval\n",
    "    error = (mean - confidence, mean + confidence)\n",
    "\n",
    "    ax.fill_between(np.arange(mean.shape[0]), error[0], error[1], alpha=0.2, color=color)\n",
    "    if legend == \"Ours\":\n",
    "        x = np.arange(mean.shape[0]) * 32\n",
    "    else:\n",
    "        x = np.arange(mean.shape[0])\n",
    "    ax.plot(x, mean, label=legend, color=color)      \n",
    "\n",
    "plt.xlabel(r'\\textbf{Train Iteration}', size=18)\n",
    "plt.ylabel(r'\\textbf{Average Cost', size=18)\n",
    "plt.title(r'\\textbf{Pointmass: Task6}', size=18)\n",
    "plt.xlim([0, 100000])\n",
    "plt.legend()        "
   ]
  },
  {
   "cell_type": "code",
   "execution_count": 15,
   "metadata": {
    "scrolled": false
   },
   "outputs": [
    {
     "data": {
      "text/plain": [
       "<matplotlib.legend.Legend at 0x7fca0a5e8cf8>"
      ]
     },
     "execution_count": 15,
     "metadata": {},
     "output_type": "execute_result"
    },
    {
     "data": {
      "image/png": "[encoded data removed]",
      "text/plain": [
       "<Figure size 432x288 with 1 Axes>"
      ]
     },
     "metadata": {},
     "output_type": "display_data"
    }
   ],
   "source": [
    "fig, ax = plt.subplots()\n",
    "sns.set_style(\"ticks\")        \n",
    "datas = [ppo_task6_obj, ppo_lag_task6_obj, cpo_task6_obj, ours_obj]\n",
    "colors = [\n",
    "    sns.color_palette(\"hls\", 8)[0], \n",
    "    sns.color_palette(\"hls\", 8)[3], \n",
    "    sns.color_palette(\"hls\", 8)[5],\n",
    "    sns.color_palette(\"hls\", 8)[6]]\n",
    "\n",
    "for data, legend, color in zip(datas, legends, colors):\n",
    "    mean = np.mean(data, axis=0)\n",
    "    std = np.std(data, axis=0)\n",
    "    confidence = 1.96 * std / float(np.sqrt(5))  # 95% interval\n",
    "    error = (mean - confidence, mean + confidence)\n",
    "\n",
    "    ax.fill_between(np.arange(mean.shape[0]), error[0], error[1], alpha=0.2, color=color)\n",
    "    if legend == \"Ours\":\n",
    "        x = np.arange(mean.shape[0]) * 32\n",
    "    else:\n",
    "        x = np.arange(mean.shape[0])    \n",
    "    ax.plot(x, mean, label=legend, color=color)      \n",
    "\n",
    "plt.xlabel(r'\\textbf{Train Iteration}', size=18)\n",
    "plt.ylabel(r'\\textbf{Average Return', size=18)\n",
    "plt.title(r'\\textbf{Pointmass: Task6}', size=18)\n",
    "plt.xlim([0, 100000])\n",
    "plt.legend()     "
   ]
  },
  {
   "cell_type": "code",
   "execution_count": null,
   "metadata": {},
   "outputs": [],
   "source": []
  }
 ],
 "metadata": {
  "kernelspec": {
   "display_name": "Python 3",
   "language": "python",
   "name": "python3"
  },
  "language_info": {
   "codemirror_mode": {
    "name": "ipython",
    "version": 3
   },
   "file_extension": ".py",
   "mimetype": "text/x-python",
   "name": "python",
   "nbconvert_exporter": "python",
   "pygments_lexer": "ipython3",
   "version": "3.6.3"
  }
 },
 "nbformat": 4,
 "nbformat_minor": 2
}
